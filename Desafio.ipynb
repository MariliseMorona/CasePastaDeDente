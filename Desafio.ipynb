{
 "cells": [
  {
   "cell_type": "code",
   "execution_count": 1,
   "id": "c780d18d",
   "metadata": {},
   "outputs": [
    {
     "name": "stdout",
     "output_type": "stream",
     "text": [
      "Case: Quantas pastas de dentes são vendidas no Brasil por mês\n"
     ]
    }
   ],
   "source": [
    "print(\"Case: Quantas pastas de dentes são vendidas no Brasil por mês?\")"
   ]
  },
  {
   "cell_type": "code",
   "execution_count": 42,
   "id": "5111b308",
   "metadata": {},
   "outputs": [
    {
     "name": "stdout",
     "output_type": "stream",
     "text": [
      "De acordo com o IBGE a população brasileira é de 213736047 habitantes.\n",
      " Divididos em:\n",
      " 9643852 - Crianças de 0 a 3 anos completos\n",
      " 7416293 - Crianças maiores de 3 anos até 6 anos completos\n",
      " 196675902 - Crianças maiores de 6 anos e adultos.\n"
     ]
    }
   ],
   "source": [
    "Grupo1 = \"Crianças de 0 a 3 anos completos\"\n",
    "Grupo2 = \"Crianças maiores de 3 anos até 6 anos completos\"\n",
    "Grupo3 = \"Crianças maiores de 6 anos e adultos\"\n",
    "\n",
    "\n",
    "populacaoGrupo1 = 9643852\n",
    "populacaoGrupo2 = 7416293\n",
    "populacaoGrupo3 = 196675902\n",
    "\n",
    "populacaoTotal = populacaoGrupo1 + populacaoGrupo2 + populacaoGrupo3\n",
    "\n",
    "print('De acordo com o IBGE a população brasileira é de {} habitantes.\\n Divididos em:\\n {} - {}\\n {} - {}\\n {} - {}.'.format(populacaoTotal, populacaoGrupo1, Grupo1, populacaoGrupo2, Grupo2, populacaoGrupo3, Grupo3))"
   ]
  },
  {
   "cell_type": "code",
   "execution_count": 55,
   "id": "32b33c46",
   "metadata": {},
   "outputs": [
    {
     "name": "stdout",
     "output_type": "stream",
     "text": [
      "O consumo de creme dental por escovação, recomendado pela OMS, para os Grupos 1, 2 e 3 é de 0.1 gramas, 0.2 gramas e 0.4 gramas.\n",
      "Sendo assim diariamente a população brasileira consome em média 243354013.80 gramas de creme dental\n",
      "Mensalmente esse consumo é de 7300620414.00 gramas de creme dental ou seja, a indústria vende cerca de 104294577.34 unidades de pasta de dente por mês.\n"
     ]
    }
   ],
   "source": [
    "consumoEscovacaoIndividualGrupo1 = 0.1\n",
    "consumoEscovacaoIndividualGrupo2 = 0.2\n",
    "consumoEscovacaoIndividualGrupo3 = 0.4\n",
    "\n",
    "consumoEscovacaoGrupo1 = populacaoGrupo1 * consumoEscovacaoIndividualGrupo1\n",
    "consumoEscovacaoGrupo2 = populacaoGrupo2 * consumoEscovacaoIndividualGrupo2\n",
    "consumoEscovacaoGrupo3 = populacaoGrupo3 * consumoEscovacaoIndividualGrupo3\n",
    "\n",
    "consumoEscovacaoTotalDia = consumoEscovacaoGrupo1 + consumoEscovacaoGrupo2 + consumoEscovacaoGrupo3\n",
    "\n",
    "escovacoesPorDia = 3\n",
    "consumoTotalDia = consumoEscovacaoTotalDia * escovacoesPorDia\n",
    "\n",
    "diasMes = 30\n",
    "consumoTotalMes = consumoTotalDia * diasMes\n",
    "vendasUnidadesMes = consumoTotalMes/gramasTuboPastaDeDente\n",
    "\n",
    "gramasTuboPastaDeDente = 70.0\n",
    "\n",
    "\n",
    "print('O consumo de creme dental por escovação, recomendado pela OMS, para os Grupos 1, 2 e 3 é de {} gramas, {} gramas e {} gramas.'.format(consumoEscovacaoIndividualGrupo1, consumoEscovacaoIndividualGrupo2, consumoEscovacaoIndividualGrupo3))\n",
    "print('Sendo assim diariamente a população brasileira consome em média {:.2f} gramas de creme dental'.format(consumoTotalDia))\n",
    "print('Mensalmente esse consumo é de {:.2f} gramas de creme dental ou seja, a indústria vende cerca de {:.2f} unidades de pasta de dente por mês.'.format(consumoTotalMes, vendasUnidadesMes))"
   ]
  },
  {
   "cell_type": "code",
   "execution_count": null,
   "id": "4f2381fc",
   "metadata": {},
   "outputs": [],
   "source": []
  },
  {
   "cell_type": "code",
   "execution_count": null,
   "id": "1022874a",
   "metadata": {},
   "outputs": [],
   "source": []
  }
 ],
 "metadata": {
  "kernelspec": {
   "display_name": "Python 3",
   "language": "python",
   "name": "python3"
  },
  "language_info": {
   "codemirror_mode": {
    "name": "ipython",
    "version": 3
   },
   "file_extension": ".py",
   "mimetype": "text/x-python",
   "name": "python",
   "nbconvert_exporter": "python",
   "pygments_lexer": "ipython3",
   "version": "3.8.8"
  }
 },
 "nbformat": 4,
 "nbformat_minor": 5
}
